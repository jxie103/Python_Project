{
 "cells": [
  {
   "cell_type": "code",
   "execution_count": 4,
   "metadata": {},
   "outputs": [
    {
     "name": "stdout",
     "output_type": "stream",
     "text": [
      "============================================================\n",
      "Welcome to Splitwise!\n",
      "Please select the functions below by typing the numbers.\n",
      "============================================================\n",
      "1. Add a Bill\n",
      "2. Add a User\n",
      "3. Make a Payment\n",
      "4. View Transactions\n",
      "5. View the History in Charts\n",
      "6. Quit the Program\n",
      "5\n"
     ]
    }
   ],
   "source": [
    "#界面设计\n",
    "print(\"=\"*60)\n",
    "print(\"Welcome to Splitwise!\")\n",
    "print(\"Please select the functions below by typing the numbers.\")\n",
    "print(\"=\"*60)\n",
    "print(\"1. Add a Bill\")\n",
    "print(\"2. Add a User\")\n",
    "print(\"3. Make a Payment\")\n",
    "print(\"4. View Transactions\")\n",
    "print(\"5. View the History in Charts\")\n",
    "print(\"6. Quit the Program\")\n",
    "user_input=int(input())\n",
    "\n",
    "def run_the_program():\n",
    "    try:\n",
    "        if user_input==1:\n",
    "            #Call a function\n",
    "        if user_input==2:\n",
    "            \n",
    "        if user_input==3:\n",
    "            \n",
    "        if user_input==4:\n",
    "            \n",
    "        if user_input==5:\n",
    "            \n",
    "        if user_input==6:\n",
    "            \n",
    "    except:\n",
    "        print(\"Please enter an available number!\")"
   ]
  },
  {
   "cell_type": "code",
   "execution_count": null,
   "metadata": {
    "collapsed": true
   },
   "outputs": [],
   "source": []
  }
 ],
 "metadata": {
  "kernelspec": {
   "display_name": "Python 3",
   "language": "python",
   "name": "python3"
  },
  "language_info": {
   "codemirror_mode": {
    "name": "ipython",
    "version": 3
   },
   "file_extension": ".py",
   "mimetype": "text/x-python",
   "name": "python",
   "nbconvert_exporter": "python",
   "pygments_lexer": "ipython3",
   "version": "3.6.1"
  }
 },
 "nbformat": 4,
 "nbformat_minor": 2
}
