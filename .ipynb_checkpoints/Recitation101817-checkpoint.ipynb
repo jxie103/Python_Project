{
 "cells": [
  {
   "cell_type": "code",
   "execution_count": null,
   "metadata": {
    "collapsed": true
   },
   "outputs": [],
   "source": [
    "# Step 1: input: GPA, output: Grade and GPA\n"
   ]
  },
  {
   "cell_type": "markdown",
   "metadata": {},
   "source": [
    "1. Input grade, assign to a variable\n",
    "2. Define a function Getgrade() to calculate the grade\n",
    "3. Use if statement to let Getgrade() work\n",
    "3. Print the grade"
   ]
  },
  {
   "cell_type": "code",
   "execution_count": 1,
   "metadata": {
    "collapsed": true
   },
   "outputs": [],
   "source": [
    "def Getgrade(points):\n",
    "    if points >= 570:\n",
    "        grade = \"A\"\n",
    "    elif points >= 540:\n",
    "        grade = \"A-\"\n",
    "    elif points >= 510:\n",
    "        grade = \"B+\"\n",
    "    elif points >= 480:\n",
    "        grade = \"B\"\n",
    "    elif points >= 450:\n",
    "        grade = \"B-\"\n",
    "    elif points >= 420:\n",
    "        grade = \"C+\"\n",
    "    elif points >= 390:\n",
    "        grade = \"C\"\n",
    "    elif points >= 360:\n",
    "        grade = \"C-\"\n",
    "    elif points >= 300:\n",
    "        grade = \"D\"\n",
    "    else:\n",
    "        grade = \"F\"\n",
    "    return grade\n",
    "\n",
    "def Getgpa(points):\n",
    "    if points >= 570:\n",
    "        gpa = \"4.0\"\n",
    "    elif points >= 540:\n",
    "        gpa = \"3.66\"\n",
    "    elif points >= 510:\n",
    "        gpa = \"3.33\"\n",
    "    elif points >= 480:\n",
    "        gpa = \"3.0\"\n",
    "    elif points >= 450:\n",
    "        gpa = \"2.66\"\n",
    "    elif points >= 420:\n",
    "        gpa = \"2.33\"\n",
    "    elif points >= 390:\n",
    "        gpa = \"2\"\n",
    "    elif points >= 360:\n",
    "        gpa = \"1.66\"\n",
    "    elif points >= 300:\n",
    "        gpa = \"1.33\"\n",
    "    else:\n",
    "        gpa = \"0\"\n",
    "    return gpa\n",
    "\n",
    "# Two seperate functions, one specific task each\n",
    "        "
   ]
  },
  {
   "cell_type": "code",
   "execution_count": 2,
   "metadata": {
    "scrolled": true
   },
   "outputs": [
    {
     "name": "stdout",
     "output_type": "stream",
     "text": [
      "Enter points or 'quit' to quit the program: 240\n",
      "Enter points or 'quit' to quit the program: 340\n",
      "Enter points or 'quit' to quit the program: 50\n",
      "Enter points or 'quit' to quit the program: 600\n",
      "Enter points or 'quit' to quit the program: 500\n",
      "D 1.33\n"
     ]
    }
   ],
   "source": [
    "total_points = 0\n",
    "count = 0\n",
    "average_grade = 0\n",
    "while True:\n",
    "    try:\n",
    "        pts = input(\"Enter points or 'quit' to quit the program: \")\n",
    "        if count < 4 and pts != 'quit':\n",
    "            pts=float(pts)\n",
    "            total_points = total_points + pts\n",
    "            count = count + 1\n",
    "            average_points = total_points / count\n",
    "            grade=Getgrade(average_points)\n",
    "            gpa=Getgpa(average_points)\n",
    "        elif pts == 'quit':\n",
    "            print(grade, gpa)\n",
    "            break\n",
    "        else:\n",
    "            print(grade, gpa)\n",
    "            break\n",
    "\n",
    "    except ValueError:\n",
    "        print(\"Please enter available points.\")"
   ]
  },
  {
   "cell_type": "markdown",
   "metadata": {},
   "source": []
  }
 ],
 "metadata": {
  "kernelspec": {
   "display_name": "Python 3",
   "language": "python",
   "name": "python3"
  },
  "language_info": {
   "codemirror_mode": {
    "name": "ipython",
    "version": 3
   },
   "file_extension": ".py",
   "mimetype": "text/x-python",
   "name": "python",
   "nbconvert_exporter": "python",
   "pygments_lexer": "ipython3",
   "version": "3.6.1"
  }
 },
 "nbformat": 4,
 "nbformat_minor": 2
}
