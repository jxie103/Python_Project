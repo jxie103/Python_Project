{
 "cells": [
  {
   "cell_type": "code",
   "execution_count": null,
   "metadata": {
    "collapsed": true
   },
   "outputs": [],
   "source": [
    "print(\"Let's play a guessing game.\")\n",
    "secret_word=\"mike\"\n",
    "guesses = 0\n",
    "while(True): #infinite loop\n",
    "    your_word=input(\"Enter your guess: \")\n",
    "    guesses = guesses + 1\n",
    "    if your_word == secret_word:\n",
    "        print(\"You win.\")\n",
    "        break #terminate the loop if win\n",
    "    if guesses == 3:\n",
    "        print(\"You lose! Too many gusses!\")\n",
    "        break #terminate if guesses >= 3\n",
    "    print(\"Wrong.\")\n",
    "        "
   ]
  },
  {
   "cell_type": "code",
   "execution_count": 2,
   "metadata": {},
   "outputs": [
    {
     "name": "stdout",
     "output_type": "stream",
     "text": [
      "kaiiii\n",
      "4\n",
      "joddddi\n",
      "1\n",
      "quit\n"
     ]
    }
   ],
   "source": [
    "while True:\n",
    "    word=input()\n",
    "    if word != 'quit': \n",
    "        word_count=word.count(\"i\")\n",
    "        print(word_count)\n",
    "    else:\n",
    "        break"
   ]
  },
  {
   "cell_type": "code",
   "execution_count": 1,
   "metadata": {},
   "outputs": [
    {
     "name": "stdout",
     "output_type": "stream",
     "text": [
      "2\n",
      "3\n",
      "4\n",
      "5\n"
     ]
    }
   ],
   "source": [
    "for x in range(2,6):\n",
    "    print(x)"
   ]
  },
  {
   "cell_type": "code",
   "execution_count": null,
   "metadata": {
    "collapsed": true
   },
   "outputs": [],
   "source": []
  }
 ],
 "metadata": {
  "kernelspec": {
   "display_name": "Python 3",
   "language": "python",
   "name": "python3"
  },
  "language_info": {
   "codemirror_mode": {
    "name": "ipython",
    "version": 3
   },
   "file_extension": ".py",
   "mimetype": "text/x-python",
   "name": "python",
   "nbconvert_exporter": "python",
   "pygments_lexer": "ipython3",
   "version": "3.6.1"
  }
 },
 "nbformat": 4,
 "nbformat_minor": 2
}
